{
 "cells": [
  {
   "cell_type": "code",
   "execution_count": 22,
   "metadata": {},
   "outputs": [],
   "source": [
    "%matplotlib inline                            \n",
    "import numpy as np \n",
    "import matplotlib.pyplot as plt              #モジュールのインポート\n",
    "\n",
    "data = np.loadtxt(fname = 'sales.csv',#読み込むファイル名\n",
    "                  dtype = 'int',#データ型を指定\n",
    "                  delimiter = ',',#区切り文字を指定\n",
    "                  skiprows=1)#１行目のタイトルを読み飛ばす←csvみりゃわかる\n",
    "\n",
    "train_x = data[:,0]#一列目を配列に格納\n",
    "train_y = data[:,1]"
   ]
  },
  {
   "cell_type": "code",
   "execution_count": 23,
   "metadata": {},
   "outputs": [],
   "source": [
    "#データを標準化する\n",
    "def standartsize(x):\n",
    "    x_mean = x.mean()\n",
    "    std = x.std()\n",
    "    return (x - x_mean) / std "
   ]
  },
  {
   "cell_type": "code",
   "execution_count": 30,
   "metadata": {},
   "outputs": [],
   "source": [
    "#データの標準化を行うなら\n",
    "once = train_x\n",
    "train_x = standartsize(once)"
   ]
  },
  {
   "cell_type": "code",
   "execution_count": 31,
   "metadata": {
    "scrolled": false
   },
   "outputs": [
    {
     "data": {
      "image/png": "[encoded data removed]",
      "text/plain": [
       "<Figure size 432x288 with 1 Axes>"
      ]
     },
     "metadata": {
      "needs_background": "light"
     },
     "output_type": "display_data"
    }
   ],
   "source": [
    "plt.plot(train_x,train_y,'o')#グラフ作成\n",
    "plt.show()#グラフ表示"
   ]
  }
 ],
 "metadata": {
  "kernelspec": {
   "display_name": "Python 3 (ipykernel)",
   "language": "python",
   "name": "python3"
  },
  "language_info": {
   "codemirror_mode": {
    "name": "ipython",
    "version": 3
   },
   "file_extension": ".py",
   "mimetype": "text/x-python",
   "name": "python",
   "nbconvert_exporter": "python",
   "pygments_lexer": "ipython3",
   "version": "3.7.13"
  }
 },
 "nbformat": 4,
 "nbformat_minor": 2
}
